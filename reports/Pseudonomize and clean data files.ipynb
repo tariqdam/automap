{
 "cells": [
  {
   "cell_type": "code",
   "execution_count": 1,
   "id": "fa99f1ad-a6bc-4132-b38c-987c04bc3ba2",
   "metadata": {},
   "outputs": [],
   "source": [
    "from os import walk, remove\n",
    "from os.path import join\n",
    "import joblib \n",
    "\n",
    "ROOT = 'C:\\\\TADAM\\\\projects\\\\automap_public\\\\automap\\\\reports'\n",
    "HOSP_TO_ID_DICT = joblib.load(join(ROOT, \"HOSP_TO_ID_DICT.pkl\"))\n",
    "HOSP_TO_ID_DICT = {k: str(v) for k,v in HOSP_TO_ID_DICT.items()}"
   ]
  },
  {
   "cell_type": "code",
   "execution_count": 2,
   "id": "27c65d0d-f548-46e4-9bd1-e6400d70e515",
   "metadata": {},
   "outputs": [],
   "source": [
    "filenames_to_delete: list = [\n",
    "    \"test_data\",\n",
    "    \"train_data\",\n",
    "    \"predicted_labels\",\n",
    "]\n",
    "filenames_to_delete += list(HOSP_TO_ID_DICT.keys())\n",
    "filenames_to_delete = [f\"{f}.csv\" for f in filenames_to_delete]\n",
    "filenames_to_delete.append(\"am.joblib\")\n",
    "filenames_to_delete.append(\"plot__relevance__f1.pdf\")\n",
    "filenames_to_delete.append(\"plot__relevance__f1.png\")\n",
    "filenames_to_delete.append(\"plot__relevance__precision.pdf\")\n",
    "filenames_to_delete.append(\"plot__relevance__precision.png\")\n"
   ]
  },
  {
   "cell_type": "code",
   "execution_count": 4,
   "id": "f340f034-df80-4250-be39-0129a6230b5b",
   "metadata": {},
   "outputs": [],
   "source": [
    "for dirpath, _, filenames in walk(ROOT):\n",
    "    for filename in filenames:\n",
    "        if filename in filenames_to_delete:\n",
    "            remove(join(dirpath, filename))\n",
    "            continue\n",
    "        if filename.endswith('.csv'):\n",
    "            with open(join(dirpath, filename), 'r+') as csv: # note the open mode\n",
    "                text = csv.read()\n",
    "                for hosp, i in HOSP_TO_ID_DICT.items():\n",
    "                    text = text.replace(hosp, i)\n",
    "                text = text.replace(\"zoverall\", \"overall\")\n",
    "                # seek to BOF\n",
    "                csv.seek(0)\n",
    "                csv.write(text)\n",
    "                # truncate is necessary in case the output is smaller than the original input\n",
    "                csv.truncate()"
   ]
  }
 ],
 "metadata": {
  "kernelspec": {
   "display_name": "Python 3 (ipykernel)",
   "language": "python",
   "name": "python3"
  },
  "language_info": {
   "codemirror_mode": {
    "name": "ipython",
    "version": 3
   },
   "file_extension": ".py",
   "mimetype": "text/x-python",
   "name": "python",
   "nbconvert_exporter": "python",
   "pygments_lexer": "ipython3",
   "version": "3.10.4"
  }
 },
 "nbformat": 4,
 "nbformat_minor": 5
}

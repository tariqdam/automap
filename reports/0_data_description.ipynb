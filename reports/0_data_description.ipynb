{
 "cells": [
  {
   "cell_type": "code",
   "execution_count": 1,
   "metadata": {
    "collapsed": true
   },
   "outputs": [],
   "source": [
    "import pandas as pd"
   ]
  },
  {
   "cell_type": "code",
   "execution_count": 2,
   "outputs": [
    {
     "name": "stdout",
     "output_type": "stream",
     "text": [
      "<class 'pandas.core.frame.DataFrame'>\n",
      "RangeIndex: 76893 entries, 0 to 76892\n",
      "Data columns (total 19 columns):\n",
      " #   Column          Non-Null Count  Dtype  \n",
      "---  ------          --------------  -----  \n",
      " 0   parameter_name  76893 non-null  object \n",
      " 1   concept_label   76893 non-null  object \n",
      " 2   hospital_name   76893 non-null  object \n",
      " 3   ehr_name        76893 non-null  object \n",
      " 4   table           76893 non-null  object \n",
      " 5   parameter_id    55008 non-null  object \n",
      " 6   atc             8840 non-null   object \n",
      " 7   unit            76893 non-null  object \n",
      " 8   num_units       75621 non-null  float64\n",
      " 9   amin            41851 non-null  float64\n",
      " 10  amax            41851 non-null  float64\n",
      " 11  p25             41851 non-null  float64\n",
      " 12  p50             41851 non-null  float64\n",
      " 13  p75             41851 non-null  float64\n",
      " 14  top_n           76893 non-null  object \n",
      " 15  num_records     76892 non-null  float64\n",
      " 16  num_patients    75621 non-null  float64\n",
      " 17  perc_patients   75502 non-null  float64\n",
      " 18  type            76893 non-null  object \n",
      "dtypes: float64(9), object(10)\n",
      "memory usage: 11.1+ MB\n",
      "<class 'pandas.core.frame.DataFrame'>\n",
      "RangeIndex: 6438 entries, 0 to 6437\n",
      "Data columns (total 3 columns):\n",
      " #   Column               Non-Null Count  Dtype \n",
      "---  ------               --------------  ----- \n",
      " 0   concept_label        6438 non-null   object\n",
      " 1   concept_label_super  6088 non-null   object\n",
      " 2   category             6438 non-null   object\n",
      "dtypes: object(3)\n",
      "memory usage: 151.0+ KB\n"
     ]
    }
   ],
   "source": [
    "df = pd.read_csv('../data/input/combined.csv')\n",
    "df.info()\n",
    "\n",
    "concepts = pd.read_csv('../data/input/concepts.csv')\n",
    "concepts.info()"
   ],
   "metadata": {
    "collapsed": false
   }
  },
  {
   "cell_type": "code",
   "execution_count": 8,
   "outputs": [],
   "source": [
    "r_parameters = df.parameter_name.shape[0]\n",
    "r_parameters_unique = df.parameter_name.nunique()\n",
    "r_parameters_unique_proportion = r_parameters_unique / r_parameters\n",
    "r_mapped = (df.concept_label != 'unmapped').sum()\n",
    "r_mapped_proportion = r_mapped / r_parameters\n",
    "r_mapped_categories = df.concept_label.map(concepts.set_index('concept_label')['category'])\n",
    "r_duplicates = df.loc[df.duplicated(subset=['parameter_name', 'hospital_name', 'table', 'parameter_id'], keep=False)].shape[0]\n",
    "r_mapped_number = df.loc[df.concept_label != 'unmapped']['concept_label'].nunique()\n",
    "r_mapped_non_med = df.loc[(df.concept_label != 'unmapped') & (~df.concept_label.str.startswith('med_'))]['concept_label'].nunique()"
   ],
   "metadata": {
    "collapsed": false
   }
  },
  {
   "cell_type": "code",
   "execution_count": 4,
   "outputs": [],
   "source": [
    "r_groups = concepts.loc[concepts['category'] != 'medication'].groupby('category').count().index.nunique()\n",
    "r_labels = concepts.loc[concepts['category'] != 'medication'].groupby('category').count().sum()['concept_label']\n",
    "r_labels_2 = concepts.loc[concepts['category'] != 'medication'].groupby('category', dropna=False).count().sum()['concept_label']\n",
    "r_medication = concepts.groupby('category').count()['concept_label']['medication']"
   ],
   "metadata": {
    "collapsed": false
   }
  },
  {
   "cell_type": "code",
   "execution_count": 10,
   "outputs": [
    {
     "name": "stdout",
     "output_type": "stream",
     "text": [
      "\n",
      "The parameter file contains 76893 parameters, of which 58848 are unique (76.53%). Based on parameter name, hospital name, table of origin and parameter id, 0 records are marked as full duplicates.\n",
      "\n",
      " Of all parameters, 38824 are mapped to a concept label. This is 50.49% of the total parameters. The mapped parameters are distributed as follows:\n",
      "\n",
      "unmapped                     49.51%\n",
      "medication                   15.28%\n",
      "laboratory value             11.88%\n",
      "respiratory                   8.49%\n",
      "fluid balance                 5.23%\n",
      "hemodynamics                  4.49%\n",
      "neurology                     1.02%\n",
      "infectiology                  0.94%\n",
      "clinical score                0.82%\n",
      "renal replacement therapy     0.62%\n",
      "Name: concept_label, dtype: object\n",
      "\n",
      "In total, 1679 unique concepts were used to map the parameters. Of these, 837 are not medication concepts and 842 medication records.\n",
      "\n",
      "There are 15 groups of concepts and 982 (982) labels in the concepts file. With an additional 5456 medication concepts in the combined file.\n",
      "\n"
     ]
    }
   ],
   "source": [
    "print(f\"\"\"\n",
    "The parameter file contains {r_parameters} parameters, of which {r_parameters_unique} are unique ({r_parameters_unique_proportion:.2%}). Based on parameter name, hospital name, table of origin and parameter id, {r_duplicates} records are marked as full duplicates.\n",
    "\n",
    " Of all parameters, {r_mapped} are mapped to a concept label. This is {r_mapped_proportion:.2%} of the total parameters. The mapped parameters are distributed as follows:\n",
    "\n",
    "{r_mapped_categories.value_counts(normalize=True).head(10).apply(lambda x: f'{x:.2%}')}\n",
    "\n",
    "In total, {r_mapped_number} unique concepts were used to map the parameters. Of these, {r_mapped_non_med} are not medication concepts and {r_mapped_number - r_mapped_non_med} medication records.\n",
    "\n",
    "There are {r_groups} groups of concepts and {r_labels} ({r_labels_2}) labels in the concepts file. With an additional {r_medication} medication concepts in the combined file.\n",
    "\"\"\")"
   ],
   "metadata": {
    "collapsed": false
   }
  },
  {
   "cell_type": "code",
   "execution_count": 6,
   "outputs": [
    {
     "data": {
      "text/plain": "             concept_label concept_label_super                   category\n0     access_pressure_cvvh                 NaN  renal replacement therapy\n1    access_pressure_cvvhd                 NaN  renal replacement therapy\n2          aciclovir_level                 NaN           laboratory value\n3   aciclovir_trough_level                 NaN           laboratory value\n4  activated_clotting_time                 NaN           laboratory value",
      "text/html": "<div>\n<style scoped>\n    .dataframe tbody tr th:only-of-type {\n        vertical-align: middle;\n    }\n\n    .dataframe tbody tr th {\n        vertical-align: top;\n    }\n\n    .dataframe thead th {\n        text-align: right;\n    }\n</style>\n<table border=\"1\" class=\"dataframe\">\n  <thead>\n    <tr style=\"text-align: right;\">\n      <th></th>\n      <th>concept_label</th>\n      <th>concept_label_super</th>\n      <th>category</th>\n    </tr>\n  </thead>\n  <tbody>\n    <tr>\n      <th>0</th>\n      <td>access_pressure_cvvh</td>\n      <td>NaN</td>\n      <td>renal replacement therapy</td>\n    </tr>\n    <tr>\n      <th>1</th>\n      <td>access_pressure_cvvhd</td>\n      <td>NaN</td>\n      <td>renal replacement therapy</td>\n    </tr>\n    <tr>\n      <th>2</th>\n      <td>aciclovir_level</td>\n      <td>NaN</td>\n      <td>laboratory value</td>\n    </tr>\n    <tr>\n      <th>3</th>\n      <td>aciclovir_trough_level</td>\n      <td>NaN</td>\n      <td>laboratory value</td>\n    </tr>\n    <tr>\n      <th>4</th>\n      <td>activated_clotting_time</td>\n      <td>NaN</td>\n      <td>laboratory value</td>\n    </tr>\n  </tbody>\n</table>\n</div>"
     },
     "execution_count": 6,
     "metadata": {},
     "output_type": "execute_result"
    }
   ],
   "source": [
    "concepts.head()"
   ],
   "metadata": {
    "collapsed": false
   }
  }
 ],
 "metadata": {
  "kernelspec": {
   "display_name": "Python 3",
   "language": "python",
   "name": "python3"
  },
  "language_info": {
   "codemirror_mode": {
    "name": "ipython",
    "version": 2
   },
   "file_extension": ".py",
   "mimetype": "text/x-python",
   "name": "python",
   "nbconvert_exporter": "python",
   "pygments_lexer": "ipython2",
   "version": "2.7.6"
  }
 },
 "nbformat": 4,
 "nbformat_minor": 0
}
